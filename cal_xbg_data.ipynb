{
 "cells": [
  {
   "cell_type": "code",
   "execution_count": null,
   "id": "2dd846b4",
   "metadata": {
    "execution": {
     "iopub.execute_input": "2025-05-20T18:45:21.064635Z",
     "iopub.status.busy": "2025-05-20T18:45:21.064398Z",
     "iopub.status.idle": "2025-05-20T18:45:29.010490Z",
     "shell.execute_reply": "2025-05-20T18:45:29.009704Z"
    },
    "papermill": {
     "duration": 7.956008,
     "end_time": "2025-05-20T18:45:29.011970",
     "exception": false,
     "start_time": "2025-05-20T18:45:21.055962",
     "status": "completed"
    },
    "tags": []
   },
   "outputs": [],
   "source": [
    "import pandas as pd\n",
    "import numpy as np\n",
    "from scipy import stats \n",
    "from sklearn.model_selection import KFold, StratifiedKFold\n",
    "import lightgbm as lgb\n",
    "import xgboost as xgb\n",
    "import catboost as cb\n",
    "import matplotlib.pyplot as plt\n",
    "%matplotlib inline\n",
    "import seaborn as sns\n",
    "from sklearn.preprocessing import LabelEncoder, OneHotEncoder, KBinsDiscretizer\n",
    "from sklearn.model_selection import train_test_split\n",
    "from sklearn.metrics import mean_squared_error\n",
    "import time\n",
    "import warnings\n",
    "warnings.filterwarnings(\"ignore\")"
   ]
  },
  {
   "cell_type": "code",
   "execution_count": null,
   "id": "5b5f0c8e",
   "metadata": {
    "execution": {
     "iopub.execute_input": "2025-05-20T18:45:29.029777Z",
     "iopub.status.busy": "2025-05-20T18:45:29.029134Z",
     "iopub.status.idle": "2025-05-20T18:45:30.016783Z",
     "shell.execute_reply": "2025-05-20T18:45:30.016153Z"
    },
    "papermill": {
     "duration": 0.997928,
     "end_time": "2025-05-20T18:45:30.018209",
     "exception": false,
     "start_time": "2025-05-20T18:45:29.020281",
     "status": "completed"
    },
    "tags": []
   },
   "outputs": [],
   "source": [
    "train_path = 'C:/Users/shiva/Desktop/Kaggle/train.csv'\n",
    "test_path = 'C:/Users/shiva/Desktop/Kaggle/test.csv'\n",
    "\n",
    "train_df = pd.read_csv(train_path)\n",
    "test_df = pd.read_csv(test_path)"
   ]
  },
  {
   "cell_type": "code",
   "execution_count": null,
   "id": "ee9a853e",
   "metadata": {
    "execution": {
     "iopub.execute_input": "2025-05-20T18:45:30.035895Z",
     "iopub.status.busy": "2025-05-20T18:45:30.035428Z",
     "iopub.status.idle": "2025-05-20T18:45:30.057990Z",
     "shell.execute_reply": "2025-05-20T18:45:30.057350Z"
    },
    "papermill": {
     "duration": 0.032543,
     "end_time": "2025-05-20T18:45:30.059117",
     "exception": false,
     "start_time": "2025-05-20T18:45:30.026574",
     "status": "completed"
    },
    "tags": []
   },
   "outputs": [],
   "source": [
    "train_df.head()"
   ]
  },
  {
   "cell_type": "code",
   "execution_count": null,
   "id": "5b066ef5",
   "metadata": {
    "execution": {
     "iopub.execute_input": "2025-05-20T18:45:30.076557Z",
     "iopub.status.busy": "2025-05-20T18:45:30.076354Z",
     "iopub.status.idle": "2025-05-20T18:45:30.086129Z",
     "shell.execute_reply": "2025-05-20T18:45:30.085589Z"
    },
    "papermill": {
     "duration": 0.019607,
     "end_time": "2025-05-20T18:45:30.087169",
     "exception": false,
     "start_time": "2025-05-20T18:45:30.067562",
     "status": "completed"
    },
    "tags": []
   },
   "outputs": [],
   "source": [
    "test_df.head(10)"
   ]
  },
  {
   "cell_type": "code",
   "execution_count": null,
   "id": "57976bcd",
   "metadata": {
    "execution": {
     "iopub.execute_input": "2025-05-20T18:45:30.104812Z",
     "iopub.status.busy": "2025-05-20T18:45:30.104553Z",
     "iopub.status.idle": "2025-05-20T18:45:30.177607Z",
     "shell.execute_reply": "2025-05-20T18:45:30.176874Z"
    },
    "papermill": {
     "duration": 0.083187,
     "end_time": "2025-05-20T18:45:30.178709",
     "exception": false,
     "start_time": "2025-05-20T18:45:30.095522",
     "status": "completed"
    },
    "tags": []
   },
   "outputs": [],
   "source": [
    "train_df.info()"
   ]
  },
  {
   "cell_type": "code",
   "execution_count": null,
   "id": "93aeb628",
   "metadata": {
    "execution": {
     "iopub.execute_input": "2025-05-20T18:45:30.196824Z",
     "iopub.status.busy": "2025-05-20T18:45:30.196574Z",
     "iopub.status.idle": "2025-05-20T18:45:30.220602Z",
     "shell.execute_reply": "2025-05-20T18:45:30.219782Z"
    },
    "papermill": {
     "duration": 0.034098,
     "end_time": "2025-05-20T18:45:30.221789",
     "exception": false,
     "start_time": "2025-05-20T18:45:30.187691",
     "status": "completed"
    },
    "tags": []
   },
   "outputs": [],
   "source": [
    "test_df.info()"
   ]
  },
  {
   "cell_type": "code",
   "execution_count": null,
   "id": "2b0d492f",
   "metadata": {
    "execution": {
     "iopub.execute_input": "2025-05-20T18:45:30.272315Z",
     "iopub.status.busy": "2025-05-20T18:45:30.272085Z",
     "iopub.status.idle": "2025-05-20T18:45:30.490566Z",
     "shell.execute_reply": "2025-05-20T18:45:30.489882Z"
    },
    "papermill": {
     "duration": 0.228733,
     "end_time": "2025-05-20T18:45:30.492092",
     "exception": false,
     "start_time": "2025-05-20T18:45:30.263359",
     "status": "completed"
    },
    "tags": []
   },
   "outputs": [],
   "source": [
    "train_df.describe()"
   ]
  },
  {
   "cell_type": "code",
   "execution_count": null,
   "id": "d6a5ba42",
   "metadata": {
    "execution": {
     "iopub.execute_input": "2025-05-20T18:45:30.511588Z",
     "iopub.status.busy": "2025-05-20T18:45:30.511366Z",
     "iopub.status.idle": "2025-05-20T18:45:30.586432Z",
     "shell.execute_reply": "2025-05-20T18:45:30.585759Z"
    },
    "papermill": {
     "duration": 0.085737,
     "end_time": "2025-05-20T18:45:30.587522",
     "exception": false,
     "start_time": "2025-05-20T18:45:30.501785",
     "status": "completed"
    },
    "tags": []
   },
   "outputs": [],
   "source": [
    "test_df.describe()"
   ]
  },
  {
   "cell_type": "code",
   "execution_count": null,
   "id": "ff37cf0d",
   "metadata": {
    "execution": {
     "iopub.execute_input": "2025-05-20T18:45:30.606365Z",
     "iopub.status.busy": "2025-05-20T18:45:30.606155Z",
     "iopub.status.idle": "2025-05-20T18:45:30.610543Z",
     "shell.execute_reply": "2025-05-20T18:45:30.610042Z"
    },
    "papermill": {
     "duration": 0.014777,
     "end_time": "2025-05-20T18:45:30.611435",
     "exception": false,
     "start_time": "2025-05-20T18:45:30.596658",
     "status": "completed"
    },
    "tags": []
   },
   "outputs": [],
   "source": [
    "df_all_feats = [col for col in train_df.columns if (col != 'Calories' and col != 'id')]\n",
    "df_all_feats"
   ]
  },
  {
   "cell_type": "code",
   "execution_count": null,
   "id": "f8707ea3",
   "metadata": {
    "execution": {
     "iopub.execute_input": "2025-05-20T18:45:30.672492Z",
     "iopub.status.busy": "2025-05-20T18:45:30.672224Z",
     "iopub.status.idle": "2025-05-20T18:45:30.675658Z",
     "shell.execute_reply": "2025-05-20T18:45:30.675017Z"
    },
    "papermill": {
     "duration": 0.056393,
     "end_time": "2025-05-20T18:45:30.676749",
     "exception": false,
     "start_time": "2025-05-20T18:45:30.620356",
     "status": "completed"
    },
    "tags": []
   },
   "outputs": [],
   "source": [
    "num_feats = df_all_feats[1:]"
   ]
  },
  {
   "cell_type": "code",
   "execution_count": null,
   "id": "41613d9b",
   "metadata": {
    "execution": {
     "iopub.execute_input": "2025-05-20T18:45:30.713126Z",
     "iopub.status.busy": "2025-05-20T18:45:30.712913Z",
     "iopub.status.idle": "2025-05-20T18:45:33.968843Z",
     "shell.execute_reply": "2025-05-20T18:45:33.968077Z"
    },
    "papermill": {
     "duration": 3.266492,
     "end_time": "2025-05-20T18:45:33.970056",
     "exception": false,
     "start_time": "2025-05-20T18:45:30.703564",
     "status": "completed"
    },
    "tags": []
   },
   "outputs": [],
   "source": [
    "plt.figure(figsize=(6, 4))\n",
    "sns.histplot(train_df['Calories'], bins=50, kde=True, stat=\"density\", linewidth=0, color='g')\n",
    "plt.savefig(\"density_histplot.png\")\n",
    "plt.show()"
   ]
  },
  {
   "cell_type": "code",
   "execution_count": null,
   "id": "cfa38b3e",
   "metadata": {
    "execution": {
     "iopub.execute_input": "2025-05-20T18:45:34.028407Z",
     "iopub.status.busy": "2025-05-20T18:45:34.028205Z",
     "iopub.status.idle": "2025-05-20T18:45:34.080179Z",
     "shell.execute_reply": "2025-05-20T18:45:34.079487Z"
    },
    "papermill": {
     "duration": 0.063205,
     "end_time": "2025-05-20T18:45:34.081368",
     "exception": false,
     "start_time": "2025-05-20T18:45:34.018163",
     "status": "completed"
    },
    "tags": []
   },
   "outputs": [],
   "source": [
    "gender_dist = train_df['Sex'].value_counts()\n",
    "gender_dist"
   ]
  },
  {
   "cell_type": "code",
   "execution_count": null,
   "id": "074e179a",
   "metadata": {
    "execution": {
     "iopub.execute_input": "2025-05-20T18:45:34.101849Z",
     "iopub.status.busy": "2025-05-20T18:45:34.101165Z",
     "iopub.status.idle": "2025-05-20T18:45:34.211270Z",
     "shell.execute_reply": "2025-05-20T18:45:34.210576Z"
    },
    "papermill": {
     "duration": 0.121607,
     "end_time": "2025-05-20T18:45:34.212469",
     "exception": false,
     "start_time": "2025-05-20T18:45:34.090862",
     "status": "completed"
    },
    "tags": []
   },
   "outputs": [],
   "source": [
    "plt.pie(gender_dist, labels=gender_dist.index, colors=[\"#65a479\", \"#a564c9\"], autopct=\"%.2f%%\")\n",
    "plt.savefig(\"pieplot.png\")\n",
    "plt.show()"
   ]
  },
  {
   "cell_type": "code",
   "execution_count": null,
   "id": "4459a6fc",
   "metadata": {
    "execution": {
     "iopub.execute_input": "2025-05-20T18:45:34.233543Z",
     "iopub.status.busy": "2025-05-20T18:45:34.233060Z",
     "iopub.status.idle": "2025-05-20T18:45:34.443762Z",
     "shell.execute_reply": "2025-05-20T18:45:34.442939Z"
    },
    "papermill": {
     "duration": 0.222225,
     "end_time": "2025-05-20T18:45:34.444931",
     "exception": false,
     "start_time": "2025-05-20T18:45:34.222706",
     "status": "completed"
    },
    "tags": []
   },
   "outputs": [],
   "source": [
    "gender_dist = test_df['Sex'].value_counts()\n",
    "plt.pie(gender_dist, labels=gender_dist.index, colors=[\"#d5695d\", \"#5d8ca8\"], autopct=\"%.2f%%\")\n",
    "plt.savefig(\"pieplot.png\")\n",
    "plt.show()"
   ]
  },
  {
   "cell_type": "code",
   "execution_count": null,
   "id": "ea2d362f",
   "metadata": {
    "execution": {
     "iopub.execute_input": "2025-05-20T18:45:34.506939Z",
     "iopub.status.busy": "2025-05-20T18:45:34.506398Z",
     "iopub.status.idle": "2025-05-20T18:45:35.620275Z",
     "shell.execute_reply": "2025-05-20T18:45:35.619560Z"
    },
    "papermill": {
     "duration": 1.126882,
     "end_time": "2025-05-20T18:45:35.621667",
     "exception": false,
     "start_time": "2025-05-20T18:45:34.494785",
     "status": "completed"
    },
    "tags": []
   },
   "outputs": [],
   "source": [
    "plt.figure(figsize=(8, 12))\n",
    "palette = plt.get_cmap('Set2').colors\n",
    "for i, col in enumerate(num_feats, 1):\n",
    "    plt.subplot(3, 2, i)\n",
    "    sns.boxplot(train_df[col], color=palette[i % len(palette)])\n",
    "    plt.title(f'Boxplot of {col}')\n",
    "plt.savefig(\"boxplot.png\")\n",
    "plt.tight_layout()\n",
    "plt.show()"
   ]
  },
  {
   "cell_type": "code",
   "execution_count": null,
   "id": "6fcd1155",
   "metadata": {
    "execution": {
     "iopub.execute_input": "2025-05-20T18:45:35.667423Z",
     "iopub.status.busy": "2025-05-20T18:45:35.666846Z",
     "iopub.status.idle": "2025-05-20T18:46:19.496486Z",
     "shell.execute_reply": "2025-05-20T18:46:19.495781Z"
    },
    "papermill": {
     "duration": 43.860036,
     "end_time": "2025-05-20T18:46:19.515502",
     "exception": false,
     "start_time": "2025-05-20T18:45:35.655466",
     "status": "completed"
    },
    "tags": []
   },
   "outputs": [],
   "source": [
    "plt.figure(figsize=(10, 10))\n",
    "i = 0\n",
    "for col in num_feats:\n",
    "    i += 1\n",
    "    ax = plt.subplot(6, 2, i)\n",
    "    sns.distplot(train_df[col], fit=stats.norm)\n",
    "\n",
    "    i += 1\n",
    "    ax = plt.subplot(6, 2, i)\n",
    "    res = stats.probplot(train_df[col], plot=plt)\n",
    "\n",
    "plt.tight_layout()\n",
    "plt.savefig(\"distplot.png\")\n",
    "plt.show()"
   ]
  },
  {
   "cell_type": "code",
   "execution_count": null,
   "id": "08d9ac65",
   "metadata": {
    "execution": {
     "iopub.execute_input": "2025-05-20T18:46:19.599175Z",
     "iopub.status.busy": "2025-05-20T18:46:19.598950Z",
     "iopub.status.idle": "2025-05-20T18:46:43.663769Z",
     "shell.execute_reply": "2025-05-20T18:46:43.663070Z"
    },
    "papermill": {
     "duration": 24.082369,
     "end_time": "2025-05-20T18:46:43.666982",
     "exception": false,
     "start_time": "2025-05-20T18:46:19.584613",
     "status": "completed"
    },
    "tags": []
   },
   "outputs": [],
   "source": [
    "plt.figure(figsize=(8, 12))\n",
    "palette1 = plt.get_cmap('Set2').colors\n",
    "palette2 = plt.get_cmap('Set3').colors\n",
    "for i, col in enumerate(num_feats, 1):\n",
    "    plt.subplot(3, 2, i)\n",
    "    sns.kdeplot(train_df[col], color=palette[i % len(palette1)], fill=True) \n",
    "    sns.kdeplot(test_df[col], color=palette[i % len(palette2)], fill=True)\n",
    "    plt.title(f'kdeplot of {col}')\n",
    "    plt.xlabel(col)\n",
    "    plt.ylabel('Frequency')\n",
    "    plt.legend(['Train', 'Test'])\n",
    "\n",
    "plt.savefig(\"kdeplot.png\")\n",
    "plt.tight_layout()\n",
    "plt.show()"
   ]
  },
  {
   "cell_type": "code",
   "execution_count": null,
   "id": "bde04c4e",
   "metadata": {
    "execution": {
     "iopub.execute_input": "2025-05-20T18:46:43.768060Z",
     "iopub.status.busy": "2025-05-20T18:46:43.767811Z",
     "iopub.status.idle": "2025-05-20T18:50:27.929909Z",
     "shell.execute_reply": "2025-05-20T18:50:27.929266Z"
    },
    "papermill": {
     "duration": 224.218102,
     "end_time": "2025-05-20T18:50:27.969200",
     "exception": false,
     "start_time": "2025-05-20T18:46:43.751098",
     "status": "completed"
    },
    "tags": []
   },
   "outputs": [],
   "source": [
    "plt.figure(figsize=(8, 12))\n",
    "palette = plt.get_cmap('Set3').colors\n",
    "for i, col in enumerate(num_feats, 1):\n",
    "    plt.subplot(3, 2, i)\n",
    "    sns.scatterplot(x = train_df[col], y = train_df['Calories'], alpha=0.2, color=palette[i % len(palette)])\n",
    "    sns.regplot(x = train_df[col], y = train_df[\"Calories\"], scatter = False, color = \"red\")\n",
    "    plt.title(f'{col} vs Calories')\n",
    "plt.tight_layout()\n",
    "plt.savefig(\"scatterplot.png\")\n",
    "plt.show()"
   ]
  },
  {
   "cell_type": "code",
   "execution_count": null,
   "id": "96821067",
   "metadata": {
    "execution": {
     "iopub.execute_input": "2025-05-20T18:50:28.125373Z",
     "iopub.status.busy": "2025-05-20T18:50:28.125137Z",
     "iopub.status.idle": "2025-05-20T18:51:39.419579Z",
     "shell.execute_reply": "2025-05-20T18:51:39.418851Z"
    },
    "papermill": {
     "duration": 71.397925,
     "end_time": "2025-05-20T18:51:39.496533",
     "exception": false,
     "start_time": "2025-05-20T18:50:28.098608",
     "status": "completed"
    },
    "tags": []
   },
   "outputs": [],
   "source": [
    "sns.pairplot(train_df[num_feats], corner=True, plot_kws={'alpha': 0.5})\n",
    "plt.title('Pairwise Scatter Plots')\n",
    "plt.savefig(\"pairplot.png\")\n",
    "plt.show()"
   ]
  },
  {
   "cell_type": "markdown",
   "id": "14744cf8",
   "metadata": {
    "papermill": {
     "duration": 0.046012,
     "end_time": "2025-05-20T18:51:39.592556",
     "exception": false,
     "start_time": "2025-05-20T18:51:39.546544",
     "status": "completed"
    },
    "tags": []
   },
   "source": []
  },
  {
   "cell_type": "code",
   "execution_count": null,
   "id": "a0a2a4c4",
   "metadata": {
    "execution": {
     "iopub.execute_input": "2025-05-20T18:51:39.686902Z",
     "iopub.status.busy": "2025-05-20T18:51:39.686075Z",
     "iopub.status.idle": "2025-05-20T18:51:40.227704Z",
     "shell.execute_reply": "2025-05-20T18:51:40.227065Z"
    },
    "papermill": {
     "duration": 0.590582,
     "end_time": "2025-05-20T18:51:40.229403",
     "exception": false,
     "start_time": "2025-05-20T18:51:39.638821",
     "status": "completed"
    },
    "tags": []
   },
   "outputs": [],
   "source": [
    "df_feats = num_feats + ['Calories']\n",
    "N = len(df_feats)\n",
    "feats_corr_mat = np.zeros((N, N))\n",
    "feats_corr_mat = np.corrcoef(train_df[df_feats], rowvar=False)\n",
    "\n",
    "plt.figure(figsize=(10, 10))\n",
    "sns.heatmap(feats_corr_mat, annot=True, fmt='.2f', xticklabels=df_feats, yticklabels=df_feats)\n",
    "\n",
    "plt.tight_layout()\n",
    "plt.savefig(\"heatmap.png\")\n",
    "plt.show()"
   ]
  },
  {
   "cell_type": "code",
   "execution_count": null,
   "id": "2197e65d",
   "metadata": {
    "execution": {
     "iopub.execute_input": "2025-05-20T18:51:40.619263Z",
     "iopub.status.busy": "2025-05-20T18:51:40.618709Z",
     "iopub.status.idle": "2025-05-20T18:51:40.623345Z",
     "shell.execute_reply": "2025-05-20T18:51:40.622784Z"
    },
    "papermill": {
     "duration": 0.054248,
     "end_time": "2025-05-20T18:51:40.624387",
     "exception": false,
     "start_time": "2025-05-20T18:51:40.570139",
     "status": "completed"
    },
    "tags": []
   },
   "outputs": [],
   "source": [
    "def impute_outliers(df):\n",
    "    q1 = np.percentile(df, 25)\n",
    "    q3 = np.percentile(df, 75)\n",
    "    IQR = q3 - q1\n",
    "    for i in range(df.shape[0]):\n",
    "        if df[i] < q1 - 1.5*IQR:\n",
    "            df[i] = q1 - 1.5*IQR\n",
    "        elif df[i] > q3 + 1.5*IQR:\n",
    "            df[i] = q3 + 1.5*IQR\n",
    "    return df"
   ]
  },
  {
   "cell_type": "code",
   "execution_count": null,
   "id": "8465fff2",
   "metadata": {
    "execution": {
     "iopub.execute_input": "2025-05-20T18:51:40.721578Z",
     "iopub.status.busy": "2025-05-20T18:51:40.720748Z",
     "iopub.status.idle": "2025-05-20T18:51:54.542305Z",
     "shell.execute_reply": "2025-05-20T18:51:54.541709Z"
    },
    "papermill": {
     "duration": 13.871405,
     "end_time": "2025-05-20T18:51:54.543566",
     "exception": false,
     "start_time": "2025-05-20T18:51:40.672161",
     "status": "completed"
    },
    "scrolled": true,
    "tags": []
   },
   "outputs": [],
   "source": [
    "have_outliers = ['Height', 'Weight', 'Heart_Rate', 'Body_Temp']\n",
    "for feat in have_outliers:\n",
    "    train_df[feat] = impute_outliers(train_df[feat])"
   ]
  },
  {
   "cell_type": "code",
   "execution_count": null,
   "id": "5b94ebc6",
   "metadata": {
    "execution": {
     "iopub.execute_input": "2025-05-20T18:51:54.642241Z",
     "iopub.status.busy": "2025-05-20T18:51:54.641975Z",
     "iopub.status.idle": "2025-05-20T18:51:55.684202Z",
     "shell.execute_reply": "2025-05-20T18:51:55.683538Z"
    },
    "papermill": {
     "duration": 1.092725,
     "end_time": "2025-05-20T18:51:55.685843",
     "exception": false,
     "start_time": "2025-05-20T18:51:54.593118",
     "status": "completed"
    },
    "tags": []
   },
   "outputs": [],
   "source": [
    "plt.figure(figsize=(8, 12))\n",
    "palette = plt.get_cmap('Set2').colors\n",
    "for i, col in enumerate(num_feats, 1):\n",
    "    plt.subplot(3, 2, i)\n",
    "    sns.boxplot(train_df[col], color=palette[i % len(palette)])\n",
    "    plt.title(f'Boxplot of {col}')\n",
    "plt.savefig(\"boxplot_after.png\")\n",
    "plt.tight_layout()\n",
    "plt.show()"
   ]
  },
  {
   "cell_type": "code",
   "execution_count": null,
   "id": "fd159c8d",
   "metadata": {
    "execution": {
     "iopub.execute_input": "2025-05-20T18:51:55.981865Z",
     "iopub.status.busy": "2025-05-20T18:51:55.981558Z",
     "iopub.status.idle": "2025-05-20T18:51:56.035027Z",
     "shell.execute_reply": "2025-05-20T18:51:56.034133Z"
    },
    "papermill": {
     "duration": 0.105021,
     "end_time": "2025-05-20T18:51:56.036364",
     "exception": false,
     "start_time": "2025-05-20T18:51:55.931343",
     "status": "completed"
    },
    "tags": []
   },
   "outputs": [],
   "source": [
    "label2code = {\n",
    "    'male': 1,\n",
    "    'female': 0,\n",
    "}\n",
    "\n",
    "train_df['Sex'] = train_df['Sex'].map(label2code)\n",
    "test_df['Sex'] = test_df['Sex'].map(label2code)"
   ]
  },
  {
   "cell_type": "code",
   "execution_count": null,
   "id": "fab933f4",
   "metadata": {
    "execution": {
     "iopub.execute_input": "2025-05-20T18:51:56.136351Z",
     "iopub.status.busy": "2025-05-20T18:51:56.136112Z",
     "iopub.status.idle": "2025-05-20T18:51:56.143671Z",
     "shell.execute_reply": "2025-05-20T18:51:56.142990Z"
    },
    "papermill": {
     "duration": 0.057764,
     "end_time": "2025-05-20T18:51:56.144936",
     "exception": false,
     "start_time": "2025-05-20T18:51:56.087172",
     "status": "completed"
    },
    "tags": []
   },
   "outputs": [],
   "source": [
    "train_df['Sex_Reversed'] = 1 - train_df['Sex']\n",
    "test_df['Sex_Reversed'] = 1 - test_df['Sex']"
   ]
  },
  {
   "cell_type": "code",
   "execution_count": null,
   "id": "1f8f59aa",
   "metadata": {
    "execution": {
     "iopub.execute_input": "2025-05-20T18:51:56.245512Z",
     "iopub.status.busy": "2025-05-20T18:51:56.245257Z",
     "iopub.status.idle": "2025-05-20T18:51:56.256075Z",
     "shell.execute_reply": "2025-05-20T18:51:56.255489Z"
    },
    "papermill": {
     "duration": 0.062678,
     "end_time": "2025-05-20T18:51:56.257109",
     "exception": false,
     "start_time": "2025-05-20T18:51:56.194431",
     "status": "completed"
    },
    "tags": []
   },
   "outputs": [],
   "source": [
    "train_df.head()"
   ]
  },
  {
   "cell_type": "markdown",
   "id": "223a6924",
   "metadata": {
    "papermill": {
     "duration": 0.048119,
     "end_time": "2025-05-20T18:51:56.360076",
     "exception": false,
     "start_time": "2025-05-20T18:51:56.311957",
     "status": "completed"
    },
    "tags": []
   },
   "source": [
    "### Feature Generation"
   ]
  },
  {
   "cell_type": "code",
   "execution_count": null,
   "id": "8ebad0ce",
   "metadata": {
    "execution": {
     "iopub.execute_input": "2025-05-20T18:51:56.459150Z",
     "iopub.status.busy": "2025-05-20T18:51:56.458586Z",
     "iopub.status.idle": "2025-05-20T18:51:56.469079Z",
     "shell.execute_reply": "2025-05-20T18:51:56.468489Z"
    },
    "papermill": {
     "duration": 0.061233,
     "end_time": "2025-05-20T18:51:56.470078",
     "exception": false,
     "start_time": "2025-05-20T18:51:56.408845",
     "status": "completed"
    },
    "tags": []
   },
   "outputs": [],
   "source": [
    "# Manually add some feature columns\n",
    "def feats_generate(df):\n",
    "    df['BMI'] = df['Weight'] / (df['Height']**2) * 10000\n",
    "    BEE = []\n",
    "    for i in range(df.shape[0]):\n",
    "        if(df.loc[i, 'Sex'] == 1):\n",
    "            bee = 66.4730 + 13.7516 * df.loc[i, 'Weight'] + 5.0033 * df.loc[i, 'Height'] - 6.7750 * df.loc[i, 'Age']\n",
    "        else:\n",
    "            bee = 655.0955 + 9.5634 * df.loc[i, 'Weight'] + 1.8496 * df.loc[i, 'Height'] - 4.6756 * df.loc[i, 'Age']\n",
    "        BEE.append(bee)\n",
    "    df['BEE'] = BEE\n",
    "    df['BFR'] = 1.2 * df['BMI'] + 0.23 * df['Age'] - 5.4 - 10.8 * df['Sex']\n",
    "    df['MHR'] = 206.3 - 0.711 * df['Age']\n",
    "    \n",
    "    # Since some data cannot be calculated, I simplify the formula for TDEE\n",
    "    TDEE = []\n",
    "    for i in range(df.shape[0]):\n",
    "        intensity = df.loc[i, 'Heart_Rate'] / df.loc[i, 'MHR']\n",
    "        if(intensity >= 0.5 and intensity < 0.6):\n",
    "           tdee = df.loc[i, 'BEE'] * 1.2\n",
    "        elif(intensity >= 0.6 and intensity < 0.7):\n",
    "            tdee = df.loc[i, 'BEE'] * 1.375\n",
    "        elif(intensity >= 0.7 and intensity < 0.8):\n",
    "            tdee = df.loc[i, 'BEE'] * 1.55\n",
    "        elif(intensity >= 0.8 and intensity < 0.9):\n",
    "            tdee = df.loc[i, 'BEE'] * 1.725\n",
    "        else:\n",
    "            tdee = df.loc[i, 'BEE'] * 1.9       \n",
    "        \n",
    "        TDEE.append(tdee)\n",
    "    df['TDEE'] = TDEE\n",
    "\n",
    "    df['Heart_Rate_to_Weight'] = df['Heart_Rate'] / df['Weight']\n",
    "    df['Heart_Rate_to_Height'] = df['Heart_Rate'] / df['Height']\n",
    "    df['Heart_Rate_to_Age'] = df['Heart_Rate'] / df['Age']\n",
    "\n",
    "    df['Body_Temp_to_Weight'] = df['Body_Temp'] / df['Weight']\n",
    "    df['Body_Temp_to_Height'] = df['Body_Temp'] / df['Height']\n",
    "    df['Body_Temp_to_Age'] = df['Body_Temp'] / df['Age']\n",
    "\n",
    "    df['Duration_to_Weight'] = df['Duration'] / df['Weight']\n",
    "    df['Duration_to_Height'] = df['Duration'] / df['Height']\n",
    "    df['Duration_to_Age'] = df['Duration'] / df['Age']\n",
    "\n",
    "    df['Heart_Rate_to_Duration'] = df['Heart_Rate'] / df['Duration']\n",
    "    df['Temp_to_Duration'] = df['Body_Temp'] / df['Duration']\n",
    "    df['Heart_Rate_to_Temp'] = df['Heart_Rate'] / df['Body_Temp']\n",
    "\n",
    "# These features turned out not to help the model get better results but to increase the error, \n",
    "# so I decided not to generate them↓\n",
    "    df['Duration^2'] = df['Duration']**2\n",
    "    df['Body_Temp^2'] = df['Body_Temp']**2\n",
    "    df['Heart_Rate^2'] = df['Heart_Rate']**2\n",
    "\n",
    "    # Get age bins\n",
    "    bins = [0, 18, 30, 45, 60, 100]\n",
    "    labels = [1, 2, 3, 4, 5]\n",
    "    df['Age_Range'] = pd.cut(df['Age'], bins=bins, labels=labels)\n",
    "    \n",
    "    return df"
   ]
  },
  {
   "cell_type": "code",
   "execution_count": null,
   "id": "a02b14d0",
   "metadata": {
    "execution": {
     "iopub.execute_input": "2025-05-20T18:51:56.568889Z",
     "iopub.status.busy": "2025-05-20T18:51:56.568623Z",
     "iopub.status.idle": "2025-05-20T18:52:30.862554Z",
     "shell.execute_reply": "2025-05-20T18:52:30.861838Z"
    },
    "papermill": {
     "duration": 34.395898,
     "end_time": "2025-05-20T18:52:30.914584",
     "exception": false,
     "start_time": "2025-05-20T18:51:56.518686",
     "status": "completed"
    },
    "tags": []
   },
   "outputs": [],
   "source": [
    "train_df = feats_generate(train_df)\n",
    "train_df.head()"
   ]
  },
  {
   "cell_type": "code",
   "execution_count": null,
   "id": "b56706a8",
   "metadata": {
    "execution": {
     "iopub.execute_input": "2025-05-20T18:52:31.016268Z",
     "iopub.status.busy": "2025-05-20T18:52:31.015669Z",
     "iopub.status.idle": "2025-05-20T18:52:42.372980Z",
     "shell.execute_reply": "2025-05-20T18:52:42.372144Z"
    },
    "papermill": {
     "duration": 11.410943,
     "end_time": "2025-05-20T18:52:42.374393",
     "exception": false,
     "start_time": "2025-05-20T18:52:30.963450",
     "status": "completed"
    },
    "tags": []
   },
   "outputs": [],
   "source": [
    "test_df = feats_generate(test_df)"
   ]
  },
  {
   "cell_type": "code",
   "execution_count": null,
   "id": "e3906855",
   "metadata": {
    "execution": {
     "iopub.execute_input": "2025-05-20T18:52:42.480128Z",
     "iopub.status.busy": "2025-05-20T18:52:42.479482Z",
     "iopub.status.idle": "2025-05-20T18:52:42.484520Z",
     "shell.execute_reply": "2025-05-20T18:52:42.484019Z"
    },
    "papermill": {
     "duration": 0.060628,
     "end_time": "2025-05-20T18:52:42.485509",
     "exception": false,
     "start_time": "2025-05-20T18:52:42.424881",
     "status": "completed"
    },
    "tags": []
   },
   "outputs": [],
   "source": [
    "def judge_unique_val(df):\n",
    "    new_df = df.copy()\n",
    "    unique_durations_val = new_df['Duration'].unique()\n",
    "    for duration in unique_durations_val:\n",
    "        heart_rate_col = f'Heart_Rate_Duration_{int(duration)}'\n",
    "        body_temp_col = f'Body_Temp_Duration_{int(duration)}'\n",
    "        new_df[heart_rate_col] = np.where(new_df['Duration'] == duration, new_df['Heart_Rate'], 0)\n",
    "        new_df[body_temp_col] = np.where(new_df['Duration'] == duration, new_df['Body_Temp'], 0)\n",
    "\n",
    "    unique_ages_val = new_df['Age'].unique()\n",
    "    for age in unique_ages_val:\n",
    "        heart_rate_col = f'Heart_Rate_Age_{int(age)}'\n",
    "        body_temp_col = f'Body_Temp_Age_{int(age)}'\n",
    "        new_df[heart_rate_col] = np.where(new_df['Age'] == age, new_df['Heart_Rate'], 0)\n",
    "        new_df[body_temp_col] = np.where(new_df['Age'] == age, new_df['Body_Temp'], 0)\n",
    "    return new_df"
   ]
  },
  {
   "cell_type": "code",
   "execution_count": null,
   "id": "42935128",
   "metadata": {
    "execution": {
     "iopub.execute_input": "2025-05-20T18:52:42.585332Z",
     "iopub.status.busy": "2025-05-20T18:52:42.584621Z",
     "iopub.status.idle": "2025-05-20T18:52:44.093681Z",
     "shell.execute_reply": "2025-05-20T18:52:44.093130Z"
    },
    "papermill": {
     "duration": 1.559933,
     "end_time": "2025-05-20T18:52:44.095082",
     "exception": false,
     "start_time": "2025-05-20T18:52:42.535149",
     "status": "completed"
    },
    "tags": []
   },
   "outputs": [],
   "source": [
    "train_df = judge_unique_val(train_df)\n",
    "test_df = judge_unique_val(test_df) "
   ]
  },
  {
   "cell_type": "code",
   "execution_count": null,
   "id": "48b1e44d",
   "metadata": {
    "execution": {
     "iopub.execute_input": "2025-05-20T18:52:44.196784Z",
     "iopub.status.busy": "2025-05-20T18:52:44.196257Z",
     "iopub.status.idle": "2025-05-20T18:52:44.216138Z",
     "shell.execute_reply": "2025-05-20T18:52:44.215472Z"
    },
    "papermill": {
     "duration": 0.070938,
     "end_time": "2025-05-20T18:52:44.217246",
     "exception": false,
     "start_time": "2025-05-20T18:52:44.146308",
     "status": "completed"
    },
    "tags": []
   },
   "outputs": [],
   "source": [
    "train_df.head(3)"
   ]
  },
  {
   "cell_type": "code",
   "execution_count": null,
   "id": "dc56aa9c",
   "metadata": {
    "execution": {
     "iopub.execute_input": "2025-05-20T18:52:44.317090Z",
     "iopub.status.busy": "2025-05-20T18:52:44.316410Z",
     "iopub.status.idle": "2025-05-20T18:52:44.320450Z",
     "shell.execute_reply": "2025-05-20T18:52:44.319932Z"
    },
    "papermill": {
     "duration": 0.054375,
     "end_time": "2025-05-20T18:52:44.321519",
     "exception": false,
     "start_time": "2025-05-20T18:52:44.267144",
     "status": "completed"
    },
    "tags": []
   },
   "outputs": [],
   "source": [
    "def add_feature_cross_terms(df, list1, list2):\n",
    "    df_new = df.copy()\n",
    "    for feature1 in list1:\n",
    "        for feature2 in list2:\n",
    "            cross_term_name = f\"{feature1}_x_{feature2}\"\n",
    "            df_new[cross_term_name] = df_new[feature1] * df_new[feature2]\n",
    "    return df_new"
   ]
  },
  {
   "cell_type": "code",
   "execution_count": null,
   "id": "31727c19",
   "metadata": {
    "execution": {
     "iopub.execute_input": "2025-05-20T18:52:44.420040Z",
     "iopub.status.busy": "2025-05-20T18:52:44.419783Z",
     "iopub.status.idle": "2025-05-20T18:52:46.357322Z",
     "shell.execute_reply": "2025-05-20T18:52:46.356768Z"
    },
    "papermill": {
     "duration": 1.988752,
     "end_time": "2025-05-20T18:52:46.358852",
     "exception": false,
     "start_time": "2025-05-20T18:52:44.370100",
     "status": "completed"
    },
    "tags": []
   },
   "outputs": [],
   "source": [
    "list1 = ['Duration', 'Heart_Rate', 'Body_Temp']\n",
    "list2 = ['Sex', 'Sex_Reversed']\n",
    "train_df = add_feature_cross_terms(train_df, list1, list2)\n",
    "test_df = add_feature_cross_terms(test_df, list1, list2)"
   ]
  },
  {
   "cell_type": "code",
   "execution_count": null,
   "id": "84efb7ff",
   "metadata": {
    "execution": {
     "iopub.execute_input": "2025-05-20T18:52:46.462022Z",
     "iopub.status.busy": "2025-05-20T18:52:46.461347Z",
     "iopub.status.idle": "2025-05-20T18:52:46.989678Z",
     "shell.execute_reply": "2025-05-20T18:52:46.989075Z"
    },
    "papermill": {
     "duration": 0.581079,
     "end_time": "2025-05-20T18:52:46.991172",
     "exception": false,
     "start_time": "2025-05-20T18:52:46.410093",
     "status": "completed"
    },
    "tags": []
   },
   "outputs": [],
   "source": [
    "train_df.drop(columns=['Sex_Reversed'], inplace=True)\n",
    "test_df.drop(columns=['Sex_Reversed'], inplace=True)"
   ]
  },
  {
   "cell_type": "code",
   "execution_count": null,
   "id": "f67e33fe",
   "metadata": {
    "execution": {
     "iopub.execute_input": "2025-05-20T18:52:47.094797Z",
     "iopub.status.busy": "2025-05-20T18:52:47.094498Z",
     "iopub.status.idle": "2025-05-20T18:52:47.101632Z",
     "shell.execute_reply": "2025-05-20T18:52:47.101066Z"
    },
    "papermill": {
     "duration": 0.060186,
     "end_time": "2025-05-20T18:52:47.102871",
     "exception": false,
     "start_time": "2025-05-20T18:52:47.042685",
     "status": "completed"
    },
    "tags": []
   },
   "outputs": [],
   "source": [
    "def add_categorical_aggregations(df):\n",
    "    categorical_cols = ['Sex']\n",
    "    numerical_cols = ['Height', 'Weight', 'Heart_Rate', 'Body_Temp']\n",
    "    \n",
    "    for i in range(1, len(categorical_cols) + 1):\n",
    "        if i == 1:\n",
    "            for cat_col in categorical_cols:\n",
    "                aggs = df.groupby(cat_col).agg({num_col: ['min', 'max'] for num_col in numerical_cols})\n",
    "                aggs.columns = [f\"{cat_col}_{num_col}_{agg}\" for num_col, agg in aggs.columns]\n",
    "                df = df.merge(aggs, on=cat_col, how='left')\n",
    "        elif i == 2:\n",
    "            for j in range(len(categorical_cols)):\n",
    "                for k in range(j+1, len(categorical_cols)):\n",
    "                    cat_col1 = categorical_cols[j]\n",
    "                    cat_col2 = categorical_cols[k]\n",
    "                    aggs = df.groupby([cat_col1, cat_col2]).agg({num_col: ['min', 'max'] for num_col in numerical_cols})\n",
    "                    aggs.columns = [f\"{cat_col1}_{cat_col2}_{num_col}_{agg}\" for num_col, agg in aggs.columns]\n",
    "                    df = df.merge(aggs, on=[cat_col1, cat_col2], how='left')\n",
    "        elif i == 3:\n",
    "            aggs = df.groupby(categorical_cols).agg({num_col: ['min', 'max'] for num_col in numerical_cols})\n",
    "            aggs.columns = [f\"all_cat_{num_col}_{agg}\" for num_col, agg in aggs.columns]\n",
    "            df = df.merge(aggs, on=categorical_cols, how='left')\n",
    "    return df"
   ]
  },
  {
   "cell_type": "code",
   "execution_count": null,
   "id": "46eaf4d2",
   "metadata": {
    "execution": {
     "iopub.execute_input": "2025-05-20T18:52:47.208951Z",
     "iopub.status.busy": "2025-05-20T18:52:47.208628Z",
     "iopub.status.idle": "2025-05-20T18:52:49.046042Z",
     "shell.execute_reply": "2025-05-20T18:52:49.045446Z"
    },
    "papermill": {
     "duration": 1.892005,
     "end_time": "2025-05-20T18:52:49.047431",
     "exception": false,
     "start_time": "2025-05-20T18:52:47.155426",
     "status": "completed"
    },
    "tags": []
   },
   "outputs": [],
   "source": [
    "train_df = add_categorical_aggregations(train_df)\n",
    "test_df = add_categorical_aggregations(test_df)"
   ]
  },
  {
   "cell_type": "code",
   "execution_count": null,
   "id": "68eb449f",
   "metadata": {
    "execution": {
     "iopub.execute_input": "2025-05-20T18:52:49.152437Z",
     "iopub.status.busy": "2025-05-20T18:52:49.151808Z",
     "iopub.status.idle": "2025-05-20T18:52:49.172805Z",
     "shell.execute_reply": "2025-05-20T18:52:49.172142Z"
    },
    "papermill": {
     "duration": 0.074659,
     "end_time": "2025-05-20T18:52:49.173827",
     "exception": false,
     "start_time": "2025-05-20T18:52:49.099168",
     "status": "completed"
    },
    "tags": []
   },
   "outputs": [],
   "source": [
    "train_df.head()"
   ]
  },
  {
   "cell_type": "code",
   "execution_count": null,
   "id": "a7354e09",
   "metadata": {
    "execution": {
     "iopub.execute_input": "2025-05-20T18:52:49.275990Z",
     "iopub.status.busy": "2025-05-20T18:52:49.275705Z",
     "iopub.status.idle": "2025-05-20T18:52:49.279111Z",
     "shell.execute_reply": "2025-05-20T18:52:49.278533Z"
    },
    "papermill": {
     "duration": 0.055074,
     "end_time": "2025-05-20T18:52:49.280167",
     "exception": false,
     "start_time": "2025-05-20T18:52:49.225093",
     "status": "completed"
    },
    "tags": []
   },
   "outputs": [],
   "source": [
    "df_feats = [col for col in train_df.columns if (col != 'Calories')]"
   ]
  },
  {
   "cell_type": "code",
   "execution_count": null,
   "id": "792e585e",
   "metadata": {
    "execution": {
     "iopub.execute_input": "2025-05-20T18:52:49.380803Z",
     "iopub.status.busy": "2025-05-20T18:52:49.380507Z",
     "iopub.status.idle": "2025-05-20T18:52:49.385237Z",
     "shell.execute_reply": "2025-05-20T18:52:49.384329Z"
    },
    "papermill": {
     "duration": 0.056077,
     "end_time": "2025-05-20T18:52:49.386378",
     "exception": false,
     "start_time": "2025-05-20T18:52:49.330301",
     "status": "completed"
    },
    "tags": []
   },
   "outputs": [],
   "source": [
    "def add_log_interactions(df, numerical_features):\n",
    "    df_new = df.copy()\n",
    "    for i in range(len(numerical_features)):\n",
    "        for j in range(i + 1, len(numerical_features)):\n",
    "            col1 = numerical_features[i]\n",
    "            col2 = numerical_features[j]\n",
    "            df_new[f\"{col1}_m_{col2}\"] = np.log1p(df_new[col1] * df_new[col2])\n",
    "            df_new[f\"{col1}_d_{col2}\"] = np.log1p(df_new[col1] / (df_new[col2] + 1e-5))\n",
    "    return df_new"
   ]
  },
  {
   "cell_type": "code",
   "execution_count": null,
   "id": "16423b55",
   "metadata": {
    "execution": {
     "iopub.execute_input": "2025-05-20T18:52:49.486594Z",
     "iopub.status.busy": "2025-05-20T18:52:49.486352Z",
     "iopub.status.idle": "2025-05-20T18:52:51.363961Z",
     "shell.execute_reply": "2025-05-20T18:52:51.363150Z"
    },
    "papermill": {
     "duration": 1.929376,
     "end_time": "2025-05-20T18:52:51.365461",
     "exception": false,
     "start_time": "2025-05-20T18:52:49.436085",
     "status": "completed"
    },
    "tags": []
   },
   "outputs": [],
   "source": [
    "numerical_features = ['Age', 'Height', 'Weight', 'Duration', 'Heart_Rate', 'Body_Temp']\n",
    "train_df = add_log_interactions(train_df, numerical_features)\n",
    "test_df = add_log_interactions(test_df, numerical_features)"
   ]
  },
  {
   "cell_type": "code",
   "execution_count": null,
   "id": "6a022070",
   "metadata": {
    "execution": {
     "iopub.execute_input": "2025-05-20T18:52:51.469438Z",
     "iopub.status.busy": "2025-05-20T18:52:51.468673Z",
     "iopub.status.idle": "2025-05-20T18:52:54.559312Z",
     "shell.execute_reply": "2025-05-20T18:52:54.558620Z"
    },
    "papermill": {
     "duration": 3.142303,
     "end_time": "2025-05-20T18:52:54.560856",
     "exception": false,
     "start_time": "2025-05-20T18:52:51.418553",
     "status": "completed"
    },
    "tags": []
   },
   "outputs": [],
   "source": [
    "columns_match = train_df.columns.equals(test_df.columns.append(pd.Index(['Calories'])))\n",
    "if not columns_match:\n",
    "    train_without_calories = train_df.drop(columns=['Calories'])\n",
    "    common_columns = [col for col in test_df.columns if col in train_without_calories.columns]\n",
    "    train_without_calories = train_without_calories[common_columns]\n",
    "    test_df = test_df[common_columns]\n",
    "    train_df = pd.concat([train_without_calories, train_df['Calories']], axis=1)\n",
    "\n",
    "train_without_calories = train_df.drop(columns=['Calories'])\n",
    "columns_match_after_drop = train_without_calories.columns.equals(test_df.columns)\n",
    "\n",
    "df_cat_feats = ['Sex', 'Age_Range']\n",
    "for col in df_cat_feats:\n",
    "    train_df[col] = train_df[col].astype('int32').astype('category')\n",
    "    test_df[col] = test_df[col].astype('int32').astype('category')"
   ]
  },
  {
   "cell_type": "markdown",
   "id": "cb59a920",
   "metadata": {
    "papermill": {
     "duration": 0.052831,
     "end_time": "2025-05-20T18:52:54.667260",
     "exception": false,
     "start_time": "2025-05-20T18:52:54.614429",
     "status": "completed"
    },
    "tags": []
   },
   "source": []
  },
  {
   "cell_type": "code",
   "execution_count": null,
   "id": "0dc3ace3",
   "metadata": {
    "execution": {
     "iopub.execute_input": "2025-05-20T18:52:54.768604Z",
     "iopub.status.busy": "2025-05-20T18:52:54.767961Z",
     "iopub.status.idle": "2025-05-20T18:52:54.771600Z",
     "shell.execute_reply": "2025-05-20T18:52:54.771093Z"
    },
    "papermill": {
     "duration": 0.056102,
     "end_time": "2025-05-20T18:52:54.772696",
     "exception": false,
     "start_time": "2025-05-20T18:52:54.716594",
     "status": "completed"
    },
    "tags": []
   },
   "outputs": [],
   "source": [
    "def target_transformation(df):\n",
    "    trans_df = df.copy()\n",
    "    trans_df['Calories'] = np.log1p(df['Calories'])\n",
    "    return trans_df"
   ]
  },
  {
   "cell_type": "code",
   "execution_count": null,
   "id": "07070219",
   "metadata": {
    "execution": {
     "iopub.execute_input": "2025-05-20T18:52:54.880964Z",
     "iopub.status.busy": "2025-05-20T18:52:54.880188Z",
     "iopub.status.idle": "2025-05-20T18:52:56.347473Z",
     "shell.execute_reply": "2025-05-20T18:52:56.346839Z"
    },
    "papermill": {
     "duration": 1.524102,
     "end_time": "2025-05-20T18:52:56.348701",
     "exception": false,
     "start_time": "2025-05-20T18:52:54.824599",
     "status": "completed"
    },
    "tags": []
   },
   "outputs": [],
   "source": [
    "trans_train_df = target_transformation(train_df)"
   ]
  },
  {
   "cell_type": "code",
   "execution_count": null,
   "id": "cd277e02",
   "metadata": {
    "execution": {
     "iopub.execute_input": "2025-05-20T18:52:56.449491Z",
     "iopub.status.busy": "2025-05-20T18:52:56.449215Z",
     "iopub.status.idle": "2025-05-20T18:52:56.467129Z",
     "shell.execute_reply": "2025-05-20T18:52:56.466557Z"
    },
    "papermill": {
     "duration": 0.068794,
     "end_time": "2025-05-20T18:52:56.468117",
     "exception": false,
     "start_time": "2025-05-20T18:52:56.399323",
     "status": "completed"
    },
    "tags": []
   },
   "outputs": [],
   "source": [
    "trans_train_df.head()"
   ]
  },
  {
   "cell_type": "code",
   "execution_count": null,
   "id": "6281bdc4",
   "metadata": {
    "execution": {
     "iopub.execute_input": "2025-05-20T18:52:56.571420Z",
     "iopub.status.busy": "2025-05-20T18:52:56.571174Z",
     "iopub.status.idle": "2025-05-20T18:52:59.936596Z",
     "shell.execute_reply": "2025-05-20T18:52:59.935866Z"
    },
    "papermill": {
     "duration": 3.41962,
     "end_time": "2025-05-20T18:52:59.937933",
     "exception": false,
     "start_time": "2025-05-20T18:52:56.518313",
     "status": "completed"
    },
    "tags": []
   },
   "outputs": [],
   "source": [
    "plt.figure(figsize=(6, 4))\n",
    "sns.histplot(trans_train_df['Calories'], bins=50, kde=True, stat=\"density\", linewidth=0, color='g')\n",
    "plt.savefig(\"density_histplot_after.png\")\n",
    "plt.show()"
   ]
  },
  {
   "cell_type": "code",
   "execution_count": null,
   "id": "927efd99",
   "metadata": {
    "execution": {
     "iopub.execute_input": "2025-05-20T18:53:00.455861Z",
     "iopub.status.busy": "2025-05-20T18:53:00.455301Z",
     "iopub.status.idle": "2025-05-20T18:53:00.508424Z",
     "shell.execute_reply": "2025-05-20T18:53:00.507771Z"
    },
    "papermill": {
     "duration": 0.108582,
     "end_time": "2025-05-20T18:53:00.510078",
     "exception": false,
     "start_time": "2025-05-20T18:53:00.401496",
     "status": "completed"
    },
    "tags": []
   },
   "outputs": [],
   "source": [
    "# StratifiedKFold is used here to set up hierarchical cross-validation\n",
    "bins = KBinsDiscretizer(n_bins=10, encode='ordinal', strategy='quantile')\n",
    "duration_bins = bins.fit_transform(train_df[['Duration']]).astype(int).flatten()\n",
    "skf = StratifiedKFold(n_splits=5, shuffle=True, random_state=42)"
   ]
  },
  {
   "cell_type": "code",
   "execution_count": null,
   "id": "1de9571d",
   "metadata": {
    "execution": {
     "iopub.execute_input": "2025-05-20T18:53:00.620820Z",
     "iopub.status.busy": "2025-05-20T18:53:00.620485Z",
     "iopub.status.idle": "2025-05-20T18:53:00.624573Z",
     "shell.execute_reply": "2025-05-20T18:53:00.623906Z"
    },
    "papermill": {
     "duration": 0.057996,
     "end_time": "2025-05-20T18:53:00.625785",
     "exception": false,
     "start_time": "2025-05-20T18:53:00.567789",
     "status": "completed"
    },
    "tags": []
   },
   "outputs": [],
   "source": [
    "params = {\n",
    "    'max_depth': 9,\n",
    "    'colsample_bytree': 0.65,\n",
    "    'subsample': 0.88,\n",
    "    'n_estimators': 3500,\n",
    "    'learning_rate': 0.009,\n",
    "    'gamma': 0.012,\n",
    "    'max_delta_step': 2,\n",
    "    'eval_metric': 'rmse',\n",
    "    'enable_categorical': True,\n",
    "    'random_state': 42,\n",
    "    'early_stopping_rounds': 200,\n",
    "    'tree_method': 'gpu_hist'\n",
    "}"
   ]
  },
  {
   "cell_type": "code",
   "execution_count": null,
   "id": "ddbc47d3",
   "metadata": {
    "execution": {
     "iopub.execute_input": "2025-05-20T18:53:00.730168Z",
     "iopub.status.busy": "2025-05-20T18:53:00.729889Z",
     "iopub.status.idle": "2025-05-20T18:53:00.737020Z",
     "shell.execute_reply": "2025-05-20T18:53:00.736405Z"
    },
    "papermill": {
     "duration": 0.062059,
     "end_time": "2025-05-20T18:53:00.738109",
     "exception": false,
     "start_time": "2025-05-20T18:53:00.676050",
     "status": "completed"
    },
    "tags": []
   },
   "outputs": [],
   "source": [
    "def xgb_cv(params, train_df, test_df, feat_cols, cat_feat_cols, target_col, stratified=False, nfold=5, num_boost_round=10000):\n",
    "    # I kept the original KFold code so that you could make comparisons and verifications\n",
    "    folds = KFold(n_splits=nfold, shuffle=True, random_state=42)    \n",
    "    \n",
    "    target = train_df[target_col]\n",
    "\n",
    "    oof = np.zeros(train_df.shape[0], dtype=np.float64)\n",
    "    pred = np.zeros(test_df.shape[0], dtype=np.float64)\n",
    "\n",
    "\n",
    "    for i, (trn_idx, val_idx) in enumerate(folds.split(train_df.index)):\n",
    "        print(f'fold={i}', '- ' * 20)\n",
    "        trn_data = xgb.DMatrix(\n",
    "            train_df.loc[trn_idx, feat_cols],\n",
    "            label=target.loc[trn_idx],\n",
    "            enable_categorical=True\n",
    "        )\n",
    "        val_data = xgb.DMatrix(\n",
    "            train_df.loc[val_idx, feat_cols],\n",
    "            label=target.loc[val_idx],\n",
    "            enable_categorical=True\n",
    "        )\n",
    "\n",
    "        model = xgb.train(\n",
    "            params,\n",
    "            trn_data,\n",
    "            num_boost_round,\n",
    "            evals=[(trn_data, 'train'), (val_data, 'valid')],\n",
    "            verbose_eval=1000,\n",
    "            early_stopping_rounds=200\n",
    "        )\n",
    "        \n",
    "        oof[val_idx] = model.predict(val_data, iteration_range=(0, model.best_iteration + 1))\n",
    "        \n",
    "        tst_data = xgb.DMatrix(test_df[feat_cols], enable_categorical=True)\n",
    "        pred += model.predict(tst_data, iteration_range=(0, model.best_iteration + 1)) / nfold\n",
    "        \n",
    "    cv = mean_squared_error(target, oof)**0.5 \n",
    "    return cv, oof, pred"
   ]
  },
  {
   "cell_type": "code",
   "execution_count": null,
   "id": "626c6db5",
   "metadata": {},
   "outputs": [],
   "source": [
    "params['tree_method'] = 'auto'  \n",
    "params['gpu_id'] = -1          \n"
   ]
  },
  {
   "cell_type": "code",
   "execution_count": null,
   "id": "f07a50ba",
   "metadata": {
    "execution": {
     "iopub.execute_input": "2025-05-20T18:53:00.845442Z",
     "iopub.status.busy": "2025-05-20T18:53:00.845183Z",
     "iopub.status.idle": "2025-05-20T19:00:56.070015Z",
     "shell.execute_reply": "2025-05-20T19:00:56.069146Z"
    },
    "papermill": {
     "duration": 475.279202,
     "end_time": "2025-05-20T19:00:56.071532",
     "exception": false,
     "start_time": "2025-05-20T18:53:00.792330",
     "status": "completed"
    },
    "tags": []
   },
   "outputs": [],
   "source": [
    "xgb_cv, xgb_oof, xgb_pred = xgb_cv(params, trans_train_df, test_df, df_feats, df_cat_feats, 'Calories')"
   ]
  },
  {
   "cell_type": "code",
   "execution_count": null,
   "id": "94689fd6",
   "metadata": {
    "execution": {
     "iopub.execute_input": "2025-05-20T19:00:56.179394Z",
     "iopub.status.busy": "2025-05-20T19:00:56.178597Z",
     "iopub.status.idle": "2025-05-20T19:00:56.183032Z",
     "shell.execute_reply": "2025-05-20T19:00:56.182273Z"
    },
    "papermill": {
     "duration": 0.059177,
     "end_time": "2025-05-20T19:00:56.184138",
     "exception": false,
     "start_time": "2025-05-20T19:00:56.124961",
     "status": "completed"
    },
    "tags": []
   },
   "outputs": [],
   "source": [
    "print(xgb_cv) "
   ]
  },
  {
   "cell_type": "code",
   "execution_count": null,
   "id": "d538227e",
   "metadata": {
    "execution": {
     "iopub.execute_input": "2025-05-20T19:00:56.398423Z",
     "iopub.status.busy": "2025-05-20T19:00:56.398158Z",
     "iopub.status.idle": "2025-05-20T19:00:56.402245Z",
     "shell.execute_reply": "2025-05-20T19:00:56.401534Z"
    },
    "papermill": {
     "duration": 0.057754,
     "end_time": "2025-05-20T19:00:56.403288",
     "exception": false,
     "start_time": "2025-05-20T19:00:56.345534",
     "status": "completed"
    },
    "tags": []
   },
   "outputs": [],
   "source": [
    "params = {\n",
    "    'iterations': 3000,\n",
    "    'learning_rate': 0.02,\n",
    "    'depth': 12,\n",
    "    'loss_function': 'RMSE',\n",
    "    'l2_leaf_reg': 3,\n",
    "    'random_seed': 42,\n",
    "    'loss_function': 'RMSE',\n",
    "    'eval_metric': 'RMSE',\n",
    "    'early_stopping_rounds': 200,\n",
    "    'verbose': 1000,\n",
    "    'task_type': 'GPU'\n",
    "}"
   ]
  },
  {
   "cell_type": "code",
   "execution_count": null,
   "id": "d08c5dac",
   "metadata": {
    "execution": {
     "iopub.execute_input": "2025-05-20T19:00:56.507366Z",
     "iopub.status.busy": "2025-05-20T19:00:56.507122Z",
     "iopub.status.idle": "2025-05-20T19:00:56.513445Z",
     "shell.execute_reply": "2025-05-20T19:00:56.512772Z"
    },
    "papermill": {
     "duration": 0.060156,
     "end_time": "2025-05-20T19:00:56.514524",
     "exception": false,
     "start_time": "2025-05-20T19:00:56.454368",
     "status": "completed"
    },
    "tags": []
   },
   "outputs": [],
   "source": [
    "def cb_cv(params, train_df, test_df, feat_cols, cat_feat_cols, target_col, stratified=False, nfold=5, num_boost_round=10000):\n",
    "    # if use KFold, the code changes are the same as those in XGBoost\n",
    "    folds = KFold(n_splits=nfold, shuffle=True, random_state=42)\n",
    "    \n",
    "    oof = np.zeros(train_df.shape[0])\n",
    "    pred = np.zeros(test_df.shape[0]) \n",
    "    \n",
    "    target = train_df[target_col]\n",
    "    \n",
    "    # for i, (trn_idx, val_idx) in enumerate(skf.split(train_df, duration_bins)):\n",
    "    for i, (trn_idx, val_idx) in enumerate(folds.split(train_df.index)):\n",
    "        print(f'fold={i}', '- ' * 20)\n",
    "        # Training and validation data converted to Pool format\n",
    "        trn_data = cb.Pool(\n",
    "            train_df.loc[trn_idx, feat_cols],\n",
    "            label=target.iloc[trn_idx], \n",
    "            feature_names=feat_cols, \n",
    "            cat_features=cat_feat_cols\n",
    "        )\n",
    "        val_data = cb.Pool(\n",
    "            train_df.loc[val_idx, feat_cols], \n",
    "            label=target.iloc[val_idx], \n",
    "            feature_names=feat_cols, \n",
    "            cat_features=cat_feat_cols\n",
    "        )\n",
    "        \n",
    "        model = cb.train(\n",
    "            trn_data,\n",
    "            params=params,\n",
    "            eval_set=val_data\n",
    "        )\n",
    "        oof[val_idx] = model.predict(val_data)\n",
    "        tst_data = cb.Pool(test_df[feat_cols], cat_features=cat_feat_cols)\n",
    "        pred += model.predict(tst_data) / nfold\n",
    "    \n",
    "    cv = mean_squared_error(target, oof)**0.5\n",
    "    return cv, oof, pred\n"
   ]
  },
  {
   "cell_type": "code",
   "execution_count": null,
   "id": "13b9d400",
   "metadata": {
    "execution": {
     "iopub.execute_input": "2025-05-20T19:00:56.618597Z",
     "iopub.status.busy": "2025-05-20T19:00:56.618324Z",
     "iopub.status.idle": "2025-05-20T19:22:41.729137Z",
     "shell.execute_reply": "2025-05-20T19:22:41.728477Z"
    },
    "papermill": {
     "duration": 1305.165102,
     "end_time": "2025-05-20T19:22:41.730678",
     "exception": false,
     "start_time": "2025-05-20T19:00:56.565576",
     "status": "completed"
    },
    "tags": []
   },
   "outputs": [],
   "source": [
    "cb_cv, cb_oof, cb_pred = cb_cv(params, trans_train_df, test_df, df_feats, df_cat_feats, 'Calories')"
   ]
  },
  {
   "cell_type": "code",
   "execution_count": null,
   "id": "d325bc6b",
   "metadata": {
    "execution": {
     "iopub.execute_input": "2025-05-20T19:22:41.838972Z",
     "iopub.status.busy": "2025-05-20T19:22:41.838698Z",
     "iopub.status.idle": "2025-05-20T19:22:41.842590Z",
     "shell.execute_reply": "2025-05-20T19:22:41.841944Z"
    },
    "papermill": {
     "duration": 0.058594,
     "end_time": "2025-05-20T19:22:41.843595",
     "exception": false,
     "start_time": "2025-05-20T19:22:41.785001",
     "status": "completed"
    },
    "tags": []
   },
   "outputs": [],
   "source": [
    "print(cb_cv) "
   ]
  },
  {
   "cell_type": "code",
   "execution_count": null,
   "id": "a51ed2bd",
   "metadata": {
    "execution": {
     "iopub.execute_input": "2025-05-20T19:22:42.057794Z",
     "iopub.status.busy": "2025-05-20T19:22:42.057484Z",
     "iopub.status.idle": "2025-05-20T19:22:42.062620Z",
     "shell.execute_reply": "2025-05-20T19:22:42.062099Z"
    },
    "papermill": {
     "duration": 0.060114,
     "end_time": "2025-05-20T19:22:42.063667",
     "exception": false,
     "start_time": "2025-05-20T19:22:42.003553",
     "status": "completed"
    },
    "tags": []
   },
   "outputs": [],
   "source": [
    "# weighted average\n",
    "total_cv = (1 - xgb_cv) + (1 - cb_cv)\n",
    "weight_xgb = (1 - xgb_cv) / total_cv\n",
    "weight_cb = (1 - cb_cv) / total_cv\n",
    "xgb_cb = (weight_xgb * xgb_pred + weight_cb * cb_pred)\n",
    "# inverse transform to original space\n",
    "inv_pred = np.expm1(xgb_cb)"
   ]
  },
  {
   "cell_type": "code",
   "execution_count": null,
   "id": "38f056a3",
   "metadata": {
    "execution": {
     "iopub.execute_input": "2025-05-20T19:22:42.277705Z",
     "iopub.status.busy": "2025-05-20T19:22:42.277417Z",
     "iopub.status.idle": "2025-05-20T19:22:42.865818Z",
     "shell.execute_reply": "2025-05-20T19:22:42.865151Z"
    },
    "papermill": {
     "duration": 0.644216,
     "end_time": "2025-05-20T19:22:42.867347",
     "exception": false,
     "start_time": "2025-05-20T19:22:42.223131",
     "status": "completed"
    },
    "tags": []
   },
   "outputs": [],
   "source": [
    "inv_pred_df = pd.read_csv('C:/Users/shiva/Desktop/Kaggle/sample_submission.csv')\n",
    "inv_pred_df['Calories'] = inv_pred\n",
    "inv_pred_df.to_csv('submission.csv', index=False, header=True)"
   ]
  }
 ],
 "metadata": {
  "kaggle": {
   "accelerator": "nvidiaTeslaT4",
   "dataSources": [
    {
     "databundleVersionId": 11893428,
     "sourceId": 91716,
     "sourceType": "competition"
    },
    {
     "datasetId": 7471838,
     "sourceId": 11887821,
     "sourceType": "datasetVersion"
    }
   ],
   "dockerImageVersionId": 31040,
   "isGpuEnabled": true,
   "isInternetEnabled": true,
   "language": "python",
   "sourceType": "notebook"
  },
  "kernelspec": {
   "display_name": "Python 3",
   "language": "python",
   "name": "python3"
  },
  "language_info": {
   "codemirror_mode": {
    "name": "ipython",
    "version": 3
   },
   "file_extension": ".py",
   "mimetype": "text/x-python",
   "name": "python",
   "nbconvert_exporter": "python",
   "pygments_lexer": "ipython3",
   "version": "3.10.11"
  },
  "papermill": {
   "default_parameters": {},
   "duration": 2247.3189,
   "end_time": "2025-05-20T19:22:44.050077",
   "environment_variables": {},
   "exception": null,
   "input_path": "__notebook__.ipynb",
   "output_path": "__notebook__.ipynb",
   "parameters": {},
   "start_time": "2025-05-20T18:45:16.731177",
   "version": "2.6.0"
  }
 },
 "nbformat": 4,
 "nbformat_minor": 5
}
